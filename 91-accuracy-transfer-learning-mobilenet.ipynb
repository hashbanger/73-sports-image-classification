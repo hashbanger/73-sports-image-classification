{
 "cells": [
  {
   "cell_type": "markdown",
   "id": "409113d0",
   "metadata": {
    "papermill": {
     "duration": 0.022912,
     "end_time": "2021-08-19T16:18:49.509646",
     "exception": false,
     "start_time": "2021-08-19T16:18:49.486734",
     "status": "completed"
    },
    "tags": []
   },
   "source": [
    "# Sport-73 Classification"
   ]
  },
  {
   "cell_type": "markdown",
   "id": "ff9f64f0",
   "metadata": {
    "papermill": {
     "duration": 0.021347,
     "end_time": "2021-08-19T16:18:49.552836",
     "exception": false,
     "start_time": "2021-08-19T16:18:49.531489",
     "status": "completed"
    },
    "tags": []
   },
   "source": [
    "Let's do the imports"
   ]
  },
  {
   "cell_type": "code",
   "execution_count": 1,
   "id": "d6747848",
   "metadata": {
    "cell_id": "00002-4b6e6c87-9f1d-4b59-b1b4-7abf7a566d90",
    "deepnote_cell_type": "code",
    "deepnote_to_be_reexecuted": false,
    "execution": {
     "iopub.execute_input": "2021-08-19T16:18:49.607704Z",
     "iopub.status.busy": "2021-08-19T16:18:49.607082Z",
     "iopub.status.idle": "2021-08-19T16:18:54.104744Z",
     "shell.execute_reply": "2021-08-19T16:18:54.105871Z",
     "shell.execute_reply.started": "2021-08-19T12:52:10.591563Z"
    },
    "execution_millis": 1,
    "execution_start": 1628773547541,
    "papermill": {
     "duration": 4.531736,
     "end_time": "2021-08-19T16:18:54.106212",
     "exception": false,
     "start_time": "2021-08-19T16:18:49.574476",
     "status": "completed"
    },
    "source_hash": "d8eb7c02",
    "tags": []
   },
   "outputs": [],
   "source": [
    "import os\n",
    "import pandas as pd\n",
    "import numpy as np\n",
    "import matplotlib.pyplot as plt\n",
    "import seaborn as sns\n",
    "from tensorflow.keras.preprocessing import image\n",
    "from tensorflow.keras import (Input, Model, layers, losses, optimizers, metrics, utils, models)\n",
    "\n",
    "sns.set_style('darkgrid')"
   ]
  },
  {
   "cell_type": "markdown",
   "id": "7cd25b3e",
   "metadata": {
    "papermill": {
     "duration": 0.038596,
     "end_time": "2021-08-19T16:18:54.184943",
     "exception": false,
     "start_time": "2021-08-19T16:18:54.146347",
     "status": "completed"
    },
    "tags": []
   },
   "source": [
    "Fixing some constants that may need multiple times."
   ]
  },
  {
   "cell_type": "code",
   "execution_count": 2,
   "id": "24204e90",
   "metadata": {
    "cell_id": "00003-c8549f71-f9e7-48c6-af01-25e9ade5f97a",
    "deepnote_cell_type": "code",
    "deepnote_to_be_reexecuted": false,
    "execution": {
     "iopub.execute_input": "2021-08-19T16:18:54.268252Z",
     "iopub.status.busy": "2021-08-19T16:18:54.267496Z",
     "iopub.status.idle": "2021-08-19T16:18:54.286111Z",
     "shell.execute_reply": "2021-08-19T16:18:54.285705Z",
     "shell.execute_reply.started": "2021-08-19T12:52:15.356098Z"
    },
    "execution_millis": 6,
    "execution_start": 1628773493591,
    "papermill": {
     "duration": 0.06275,
     "end_time": "2021-08-19T16:18:54.286222",
     "exception": false,
     "start_time": "2021-08-19T16:18:54.223472",
     "status": "completed"
    },
    "source_hash": "4f4a98a3",
    "tags": []
   },
   "outputs": [],
   "source": [
    "# CONSTANTS\n",
    "DATA_PATH = '../input/sports-classification'\n",
    "TRAIN_PATH = os.path.join(DATA_PATH, 'train')\n",
    "VAL_PATH = os.path.join(DATA_PATH, 'valid')\n",
    "TEST_PATH = os.path.join(DATA_PATH, 'test')\n",
    "\n",
    "IMAGE_SIZE = (224, 224)\n",
    "IMAGE_SHAPE = (224, 224, 3)\n",
    "NUM_CLASSES = len(os.listdir(TEST_PATH))\n",
    "\n",
    "# HYPERPARAMETERS\n",
    "BATCH_SIZE = 32\n",
    "EPOCHS = 50\n",
    "LEARNING_RATE = 1e-3"
   ]
  },
  {
   "cell_type": "markdown",
   "id": "cca214a8",
   "metadata": {
    "papermill": {
     "duration": 0.021429,
     "end_time": "2021-08-19T16:18:54.333696",
     "exception": false,
     "start_time": "2021-08-19T16:18:54.312267",
     "status": "completed"
    },
    "tags": []
   },
   "source": [
    "Creating the image data generators."
   ]
  },
  {
   "cell_type": "code",
   "execution_count": 3,
   "id": "4027bb6e",
   "metadata": {
    "cell_id": "00003-d90efe96-9fbf-476d-982d-dc6e583d4425",
    "deepnote_cell_type": "code",
    "deepnote_to_be_reexecuted": false,
    "execution": {
     "iopub.execute_input": "2021-08-19T16:18:54.382102Z",
     "iopub.status.busy": "2021-08-19T16:18:54.381435Z",
     "iopub.status.idle": "2021-08-19T16:18:55.532989Z",
     "shell.execute_reply": "2021-08-19T16:18:55.532306Z",
     "shell.execute_reply.started": "2021-08-19T12:52:15.399756Z"
    },
    "execution_millis": 724,
    "execution_start": 1628773494462,
    "papermill": {
     "duration": 1.178082,
     "end_time": "2021-08-19T16:18:55.533147",
     "exception": false,
     "start_time": "2021-08-19T16:18:54.355065",
     "status": "completed"
    },
    "source_hash": "60f37a28",
    "tags": []
   },
   "outputs": [
    {
     "name": "stdout",
     "output_type": "stream",
     "text": [
      "Found 10416 images belonging to 73 classes.\n",
      "Found 365 images belonging to 73 classes.\n",
      "Found 365 images belonging to 73 classes.\n"
     ]
    }
   ],
   "source": [
    "data_generator = image.ImageDataGenerator(rescale = 1./255)\n",
    "train_generator = data_generator.flow_from_directory(directory= TRAIN_PATH,\n",
    "                                                    target_size=IMAGE_SIZE,\n",
    "                                                    color_mode= 'rgb',\n",
    "                                                    class_mode= 'categorical',\n",
    "                                                    batch_size= BATCH_SIZE)\n",
    "val_generator = data_generator.flow_from_directory(directory= VAL_PATH,\n",
    "                                                    target_size=IMAGE_SIZE,\n",
    "                                                    color_mode= 'rgb',\n",
    "                                                    class_mode= 'categorical',\n",
    "                                                    batch_size= BATCH_SIZE)\n",
    "test_generator = data_generator.flow_from_directory(directory= TEST_PATH,\n",
    "                                                    target_size=IMAGE_SIZE,\n",
    "                                                    color_mode= 'rgb',\n",
    "                                                    class_mode= 'categorical',\n",
    "                                                    batch_size= BATCH_SIZE,\n",
    "                                                    shuffle= False)"
   ]
  },
  {
   "cell_type": "markdown",
   "id": "89e324c8",
   "metadata": {
    "execution": {
     "iopub.execute_input": "2021-08-19T16:07:51.718782Z",
     "iopub.status.busy": "2021-08-19T16:07:51.718383Z",
     "iopub.status.idle": "2021-08-19T16:07:51.724549Z",
     "shell.execute_reply": "2021-08-19T16:07:51.723138Z",
     "shell.execute_reply.started": "2021-08-19T16:07:51.718724Z"
    },
    "papermill": {
     "duration": 0.022142,
     "end_time": "2021-08-19T16:18:55.579809",
     "exception": false,
     "start_time": "2021-08-19T16:18:55.557667",
     "status": "completed"
    },
    "tags": []
   },
   "source": [
    "First, we are going to try with a simple CNN architecture and see how it does"
   ]
  },
  {
   "cell_type": "code",
   "execution_count": 4,
   "id": "56f8065f",
   "metadata": {
    "cell_id": "00006-fff8fc9c-f2ef-44ff-a0c6-5da2c77cd494",
    "deepnote_cell_type": "code",
    "deepnote_to_be_reexecuted": false,
    "execution": {
     "iopub.execute_input": "2021-08-19T16:18:55.633010Z",
     "iopub.status.busy": "2021-08-19T16:18:55.631626Z",
     "iopub.status.idle": "2021-08-19T16:18:55.634585Z",
     "shell.execute_reply": "2021-08-19T16:18:55.634171Z",
     "shell.execute_reply.started": "2021-08-19T12:54:42.125319Z"
    },
    "execution_millis": 0,
    "execution_start": 1628773495187,
    "papermill": {
     "duration": 0.03248,
     "end_time": "2021-08-19T16:18:55.634689",
     "exception": false,
     "start_time": "2021-08-19T16:18:55.602209",
     "status": "completed"
    },
    "source_hash": "dec1e109",
    "tags": []
   },
   "outputs": [],
   "source": [
    "def get_cnn_model(IMAGE_SHAPE):\n",
    "    \"\"\"\n",
    "    creates and returns a CNN model.\n",
    "    \"\"\"\n",
    "    # Define the tensors for the two input images\n",
    "    input_layer = Input(IMAGE_SHAPE)\n",
    "    x = layers.Conv2D(filters=128, kernel_size=(3, 3), activation=\"relu\")(input_layer)\n",
    "    x = layers.MaxPooling2D(pool_size=(2, 2))(x)\n",
    "    x = layers.Conv2D(filters=256, kernel_size=(3, 3), activation=\"relu\")(x)\n",
    "    x = layers.MaxPooling2D(pool_size=(2, 2))(x)\n",
    "    x = layers.Conv2D(filters=128, kernel_size=(3, 3), activation=\"relu\")(x)\n",
    "    x = layers.MaxPooling2D(pool_size=(2, 2))(x)\n",
    "    x = layers.Flatten()(x)\n",
    "    outputs = layers.Dense(NUM_CLASSES, name=\"final_dense\", activation='softmax')(x)\n",
    "    return Model(input_layer, outputs)"
   ]
  },
  {
   "cell_type": "code",
   "execution_count": 5,
   "id": "33031477",
   "metadata": {
    "cell_id": "00006-6ba8ec9d-7329-4c91-a897-b3564a56d4e7",
    "deepnote_cell_type": "code",
    "deepnote_to_be_reexecuted": false,
    "execution": {
     "iopub.execute_input": "2021-08-19T16:18:55.683162Z",
     "iopub.status.busy": "2021-08-19T16:18:55.682505Z",
     "iopub.status.idle": "2021-08-19T16:18:57.465988Z",
     "shell.execute_reply": "2021-08-19T16:18:57.466457Z",
     "shell.execute_reply.started": "2021-08-19T12:54:42.781466Z"
    },
    "execution_millis": 393,
    "execution_start": 1628773495709,
    "papermill": {
     "duration": 1.809915,
     "end_time": "2021-08-19T16:18:57.466631",
     "exception": false,
     "start_time": "2021-08-19T16:18:55.656716",
     "status": "completed"
    },
    "source_hash": "40f0abf1",
    "tags": []
   },
   "outputs": [
    {
     "name": "stdout",
     "output_type": "stream",
     "text": [
      "Model: \"model\"\n",
      "_________________________________________________________________\n",
      "Layer (type)                 Output Shape              Param #   \n",
      "=================================================================\n",
      "input_1 (InputLayer)         [(None, 224, 224, 3)]     0         \n",
      "_________________________________________________________________\n",
      "conv2d (Conv2D)              (None, 222, 222, 128)     3584      \n",
      "_________________________________________________________________\n",
      "max_pooling2d (MaxPooling2D) (None, 111, 111, 128)     0         \n",
      "_________________________________________________________________\n",
      "conv2d_1 (Conv2D)            (None, 109, 109, 256)     295168    \n",
      "_________________________________________________________________\n",
      "max_pooling2d_1 (MaxPooling2 (None, 54, 54, 256)       0         \n",
      "_________________________________________________________________\n",
      "conv2d_2 (Conv2D)            (None, 52, 52, 128)       295040    \n",
      "_________________________________________________________________\n",
      "max_pooling2d_2 (MaxPooling2 (None, 26, 26, 128)       0         \n",
      "_________________________________________________________________\n",
      "flatten (Flatten)            (None, 86528)             0         \n",
      "_________________________________________________________________\n",
      "final_dense (Dense)          (None, 73)                6316617   \n",
      "=================================================================\n",
      "Total params: 6,910,409\n",
      "Trainable params: 6,910,409\n",
      "Non-trainable params: 0\n",
      "_________________________________________________________________\n"
     ]
    }
   ],
   "source": [
    "model = get_cnn_model(IMAGE_SHAPE)\n",
    "model.summary()"
   ]
  },
  {
   "cell_type": "code",
   "execution_count": 6,
   "id": "4dd29ebe",
   "metadata": {
    "cell_id": "00007-397ced64-b727-4583-9f6a-9ffa12e0d157",
    "deepnote_cell_type": "code",
    "deepnote_to_be_reexecuted": false,
    "execution": {
     "iopub.execute_input": "2021-08-19T16:18:57.521908Z",
     "iopub.status.busy": "2021-08-19T16:18:57.521104Z",
     "iopub.status.idle": "2021-08-19T16:18:57.526759Z",
     "shell.execute_reply": "2021-08-19T16:18:57.527127Z",
     "shell.execute_reply.started": "2021-08-19T12:54:43.632889Z"
    },
    "execution_millis": 3,
    "execution_start": 1628773568082,
    "papermill": {
     "duration": 0.038103,
     "end_time": "2021-08-19T16:18:57.527245",
     "exception": false,
     "start_time": "2021-08-19T16:18:57.489142",
     "status": "completed"
    },
    "source_hash": "f5ec5b98",
    "tags": []
   },
   "outputs": [],
   "source": [
    "model.compile(optimizer = optimizers.Adam(LEARNING_RATE), \n",
    "                loss = losses.categorical_crossentropy, \n",
    "                metrics = ['accuracy'])"
   ]
  },
  {
   "cell_type": "code",
   "execution_count": 7,
   "id": "443b2842",
   "metadata": {
    "cell_id": "00008-055e4044-67a1-4d79-b7d9-eb1d9dc11c47",
    "deepnote_cell_type": "code",
    "deepnote_to_be_reexecuted": false,
    "execution": {
     "iopub.execute_input": "2021-08-19T16:18:57.576289Z",
     "iopub.status.busy": "2021-08-19T16:18:57.575714Z",
     "iopub.status.idle": "2021-08-19T16:46:56.859841Z",
     "shell.execute_reply": "2021-08-19T16:46:56.861076Z",
     "shell.execute_reply.started": "2021-08-19T12:54:48.364453Z"
    },
    "execution_start": 1628773630078,
    "papermill": {
     "duration": 1679.311599,
     "end_time": "2021-08-19T16:46:56.861384",
     "exception": false,
     "start_time": "2021-08-19T16:18:57.549785",
     "status": "completed"
    },
    "source_hash": "dc155949",
    "tags": []
   },
   "outputs": [
    {
     "name": "stdout",
     "output_type": "stream",
     "text": [
      "Epoch 1/50\n",
      "326/326 [==============================] - 66s 178ms/step - loss: 4.1909 - accuracy: 0.0456 - val_loss: 3.4212 - val_accuracy: 0.1726\n",
      "Epoch 2/50\n",
      "326/326 [==============================] - 33s 102ms/step - loss: 2.7708 - accuracy: 0.3360 - val_loss: 3.2153 - val_accuracy: 0.2438\n",
      "Epoch 3/50\n",
      "326/326 [==============================] - 33s 101ms/step - loss: 1.3085 - accuracy: 0.6714 - val_loss: 4.1931 - val_accuracy: 0.2466\n",
      "Epoch 4/50\n",
      "326/326 [==============================] - 34s 105ms/step - loss: 0.4511 - accuracy: 0.8847 - val_loss: 6.2927 - val_accuracy: 0.2329\n",
      "Epoch 5/50\n",
      "326/326 [==============================] - 32s 99ms/step - loss: 0.1828 - accuracy: 0.9564 - val_loss: 8.9907 - val_accuracy: 0.2247\n",
      "Epoch 6/50\n",
      "326/326 [==============================] - 32s 98ms/step - loss: 0.0935 - accuracy: 0.9814 - val_loss: 10.1276 - val_accuracy: 0.2164\n",
      "Epoch 7/50\n",
      "326/326 [==============================] - 32s 99ms/step - loss: 0.0769 - accuracy: 0.9856 - val_loss: 9.8003 - val_accuracy: 0.2192\n",
      "Epoch 8/50\n",
      "326/326 [==============================] - 32s 97ms/step - loss: 0.0689 - accuracy: 0.9878 - val_loss: 11.8012 - val_accuracy: 0.2082\n",
      "Epoch 9/50\n",
      "326/326 [==============================] - 32s 98ms/step - loss: 0.0869 - accuracy: 0.9887 - val_loss: 12.8254 - val_accuracy: 0.2055\n",
      "Epoch 10/50\n",
      "326/326 [==============================] - 32s 98ms/step - loss: 0.0703 - accuracy: 0.9841 - val_loss: 12.4365 - val_accuracy: 0.2110\n",
      "Epoch 11/50\n",
      "326/326 [==============================] - 34s 102ms/step - loss: 0.0451 - accuracy: 0.9911 - val_loss: 12.2115 - val_accuracy: 0.2110\n",
      "Epoch 12/50\n",
      "326/326 [==============================] - 32s 99ms/step - loss: 0.0659 - accuracy: 0.9874 - val_loss: 12.6245 - val_accuracy: 0.2164\n",
      "Epoch 13/50\n",
      "326/326 [==============================] - 32s 99ms/step - loss: 0.0326 - accuracy: 0.9955 - val_loss: 13.0048 - val_accuracy: 0.2164\n",
      "Epoch 14/50\n",
      "326/326 [==============================] - 32s 99ms/step - loss: 0.0276 - accuracy: 0.9943 - val_loss: 12.9220 - val_accuracy: 0.2082\n",
      "Epoch 15/50\n",
      "326/326 [==============================] - 32s 99ms/step - loss: 0.0413 - accuracy: 0.9943 - val_loss: 12.6424 - val_accuracy: 0.2000\n",
      "Epoch 16/50\n",
      "326/326 [==============================] - 32s 99ms/step - loss: 0.0228 - accuracy: 0.9945 - val_loss: 14.7419 - val_accuracy: 0.1863\n",
      "Epoch 17/50\n",
      "326/326 [==============================] - 32s 98ms/step - loss: 0.0482 - accuracy: 0.9913 - val_loss: 13.5554 - val_accuracy: 0.2082\n",
      "Epoch 18/50\n",
      "326/326 [==============================] - 32s 99ms/step - loss: 0.0391 - accuracy: 0.9942 - val_loss: 13.8987 - val_accuracy: 0.1973\n",
      "Epoch 19/50\n",
      "326/326 [==============================] - 32s 99ms/step - loss: 0.0206 - accuracy: 0.9980 - val_loss: 11.9691 - val_accuracy: 0.2055\n",
      "Epoch 20/50\n",
      "326/326 [==============================] - 33s 100ms/step - loss: 0.0218 - accuracy: 0.9979 - val_loss: 13.8186 - val_accuracy: 0.1863\n",
      "Epoch 21/50\n",
      "326/326 [==============================] - 33s 100ms/step - loss: 0.0358 - accuracy: 0.9939 - val_loss: 15.6917 - val_accuracy: 0.1808\n",
      "Epoch 22/50\n",
      "326/326 [==============================] - 35s 106ms/step - loss: 0.0283 - accuracy: 0.9946 - val_loss: 13.3243 - val_accuracy: 0.1918\n",
      "Epoch 23/50\n",
      "326/326 [==============================] - 33s 101ms/step - loss: 0.0360 - accuracy: 0.9945 - val_loss: 13.8412 - val_accuracy: 0.1863\n",
      "Epoch 24/50\n",
      "326/326 [==============================] - 33s 100ms/step - loss: 0.0294 - accuracy: 0.9966 - val_loss: 15.0841 - val_accuracy: 0.1890\n",
      "Epoch 25/50\n",
      "326/326 [==============================] - 33s 100ms/step - loss: 0.0075 - accuracy: 0.9988 - val_loss: 13.2596 - val_accuracy: 0.1918\n",
      "Epoch 26/50\n",
      "326/326 [==============================] - 33s 100ms/step - loss: 0.0111 - accuracy: 0.9993 - val_loss: 14.1246 - val_accuracy: 0.1781\n",
      "Epoch 27/50\n",
      "326/326 [==============================] - 33s 101ms/step - loss: 0.0145 - accuracy: 0.9994 - val_loss: 12.8557 - val_accuracy: 0.1918\n",
      "Epoch 28/50\n",
      "326/326 [==============================] - 33s 101ms/step - loss: 0.0059 - accuracy: 0.9994 - val_loss: 11.8464 - val_accuracy: 0.1973\n",
      "Epoch 29/50\n",
      "326/326 [==============================] - 33s 101ms/step - loss: 0.0068 - accuracy: 0.9996 - val_loss: 10.7939 - val_accuracy: 0.1753\n",
      "Epoch 30/50\n",
      "326/326 [==============================] - 33s 100ms/step - loss: 0.0025 - accuracy: 0.9998 - val_loss: 10.2101 - val_accuracy: 0.1945\n",
      "Epoch 31/50\n",
      "326/326 [==============================] - 33s 101ms/step - loss: 0.0046 - accuracy: 0.9994 - val_loss: 13.3810 - val_accuracy: 0.2137\n",
      "Epoch 32/50\n",
      "326/326 [==============================] - 33s 102ms/step - loss: 0.0316 - accuracy: 0.9933 - val_loss: 13.0054 - val_accuracy: 0.1836\n",
      "Epoch 33/50\n",
      "326/326 [==============================] - 33s 102ms/step - loss: 0.0366 - accuracy: 0.9938 - val_loss: 14.6307 - val_accuracy: 0.1452\n",
      "Epoch 34/50\n",
      "326/326 [==============================] - 33s 101ms/step - loss: 0.0121 - accuracy: 0.9978 - val_loss: 14.0822 - val_accuracy: 0.1781\n",
      "Epoch 35/50\n",
      "326/326 [==============================] - 32s 99ms/step - loss: 0.0048 - accuracy: 0.9986 - val_loss: 11.6994 - val_accuracy: 0.1699\n",
      "Epoch 36/50\n",
      "326/326 [==============================] - 33s 100ms/step - loss: 0.0054 - accuracy: 0.9991 - val_loss: 12.7076 - val_accuracy: 0.1699\n",
      "Epoch 37/50\n",
      "326/326 [==============================] - 34s 103ms/step - loss: 0.0165 - accuracy: 0.9985 - val_loss: 10.7075 - val_accuracy: 0.1589\n",
      "Epoch 38/50\n",
      "326/326 [==============================] - 34s 106ms/step - loss: 0.0087 - accuracy: 0.9986 - val_loss: 10.9140 - val_accuracy: 0.1890\n",
      "Epoch 39/50\n",
      "326/326 [==============================] - 33s 102ms/step - loss: 0.0071 - accuracy: 0.9995 - val_loss: 10.9706 - val_accuracy: 0.1918\n",
      "Epoch 40/50\n",
      "326/326 [==============================] - 34s 103ms/step - loss: 0.0063 - accuracy: 0.9994 - val_loss: 10.1423 - val_accuracy: 0.1890\n",
      "Epoch 41/50\n",
      "326/326 [==============================] - 34s 104ms/step - loss: 0.0043 - accuracy: 0.9995 - val_loss: 12.4331 - val_accuracy: 0.1808\n",
      "Epoch 42/50\n",
      "326/326 [==============================] - 34s 103ms/step - loss: 0.0046 - accuracy: 0.9995 - val_loss: 11.7998 - val_accuracy: 0.1863\n",
      "Epoch 43/50\n",
      "326/326 [==============================] - 34s 104ms/step - loss: 0.0059 - accuracy: 0.9995 - val_loss: 11.8961 - val_accuracy: 0.1507\n",
      "Epoch 44/50\n",
      "326/326 [==============================] - 33s 102ms/step - loss: 0.0259 - accuracy: 0.9959 - val_loss: 15.8865 - val_accuracy: 0.1781\n",
      "Epoch 45/50\n",
      "326/326 [==============================] - 34s 103ms/step - loss: 0.0327 - accuracy: 0.9947 - val_loss: 13.8700 - val_accuracy: 0.1753\n",
      "Epoch 46/50\n",
      "326/326 [==============================] - 32s 99ms/step - loss: 0.0218 - accuracy: 0.9955 - val_loss: 12.1172 - val_accuracy: 0.1781\n",
      "Epoch 47/50\n",
      "326/326 [==============================] - 33s 101ms/step - loss: 0.0076 - accuracy: 0.9983 - val_loss: 14.4918 - val_accuracy: 0.1534\n",
      "Epoch 48/50\n",
      "326/326 [==============================] - 31s 96ms/step - loss: 0.0180 - accuracy: 0.9983 - val_loss: 11.0482 - val_accuracy: 0.1507\n",
      "Epoch 49/50\n",
      "326/326 [==============================] - 34s 104ms/step - loss: 0.0029 - accuracy: 0.9995 - val_loss: 10.4353 - val_accuracy: 0.1644\n",
      "Epoch 50/50\n",
      "326/326 [==============================] - 32s 97ms/step - loss: 0.0058 - accuracy: 0.9995 - val_loss: 10.9589 - val_accuracy: 0.1644\n"
     ]
    }
   ],
   "source": [
    "history = model.fit(train_generator, validation_data= val_generator, epochs = EPOCHS)"
   ]
  },
  {
   "cell_type": "code",
   "execution_count": 8,
   "id": "a80fee7b",
   "metadata": {
    "execution": {
     "iopub.execute_input": "2021-08-19T16:47:05.959828Z",
     "iopub.status.busy": "2021-08-19T16:47:05.958987Z",
     "iopub.status.idle": "2021-08-19T16:47:06.638523Z",
     "shell.execute_reply": "2021-08-19T16:47:06.638950Z",
     "shell.execute_reply.started": "2021-08-19T13:27:31.878319Z"
    },
    "papermill": {
     "duration": 4.899347,
     "end_time": "2021-08-19T16:47:06.639093",
     "exception": false,
     "start_time": "2021-08-19T16:47:01.739746",
     "status": "completed"
    },
    "tags": []
   },
   "outputs": [
    {
     "data": {
      "image/png": "[encoded data removed]",
      "text/plain": [
       "<Figure size 1296x864 with 4 Axes>"
      ]
     },
     "metadata": {},
     "output_type": "display_data"
    }
   ],
   "source": [
    "plt.figure(figsize = (18,12))\n",
    "plt.subplot(2,2,1)\n",
    "plt.title('Training Loss')\n",
    "plt.plot(history.history['loss'], color = 'tab:orange')\n",
    "plt.subplot(2,2,2)\n",
    "plt.title('Training Accuracy')\n",
    "plt.plot(history.history['accuracy'], color = 'tab:blue')\n",
    "plt.subplot(2,2,3)\n",
    "plt.title('Validation Loss')\n",
    "plt.plot(history.history['val_loss'], color = 'tab:orange')\n",
    "plt.subplot(2,2,4)\n",
    "plt.title('Validation Accuracy')\n",
    "plt.plot(history.history['val_accuracy'], color = 'tab:blue');"
   ]
  },
  {
   "cell_type": "code",
   "execution_count": 9,
   "id": "a7359917",
   "metadata": {
    "execution": {
     "iopub.execute_input": "2021-08-19T16:47:15.280903Z",
     "iopub.status.busy": "2021-08-19T16:47:15.280075Z",
     "iopub.status.idle": "2021-08-19T16:47:16.317063Z",
     "shell.execute_reply": "2021-08-19T16:47:16.316601Z",
     "shell.execute_reply.started": "2021-08-19T13:27:41.186745Z"
    },
    "papermill": {
     "duration": 5.237266,
     "end_time": "2021-08-19T16:47:16.317190",
     "exception": false,
     "start_time": "2021-08-19T16:47:11.079924",
     "status": "completed"
    },
    "tags": []
   },
   "outputs": [],
   "source": [
    "model.save('model1')"
   ]
  },
  {
   "cell_type": "code",
   "execution_count": 10,
   "id": "cf0b1c9a",
   "metadata": {
    "execution": {
     "iopub.execute_input": "2021-08-19T16:47:24.978715Z",
     "iopub.status.busy": "2021-08-19T16:47:24.977373Z",
     "iopub.status.idle": "2021-08-19T16:47:27.246028Z",
     "shell.execute_reply": "2021-08-19T16:47:27.245619Z",
     "shell.execute_reply.started": "2021-08-19T13:27:45.849549Z"
    },
    "papermill": {
     "duration": 6.518554,
     "end_time": "2021-08-19T16:47:27.246146",
     "exception": false,
     "start_time": "2021-08-19T16:47:20.727592",
     "status": "completed"
    },
    "tags": []
   },
   "outputs": [
    {
     "name": "stdout",
     "output_type": "stream",
     "text": [
      "12/12 [==============================] - 2s 173ms/step - loss: 9.5120 - accuracy: 0.1808\n"
     ]
    },
    {
     "data": {
      "text/plain": [
       "[9.511969566345215, 0.18082191050052643]"
      ]
     },
     "execution_count": 10,
     "metadata": {},
     "output_type": "execute_result"
    }
   ],
   "source": [
    "model.evaluate(test_generator)"
   ]
  },
  {
   "cell_type": "markdown",
   "id": "5d458a97",
   "metadata": {
    "papermill": {
     "duration": 4.481445,
     "end_time": "2021-08-19T16:47:36.366853",
     "exception": false,
     "start_time": "2021-08-19T16:47:31.885408",
     "status": "completed"
    },
    "tags": []
   },
   "source": [
    "As we can see, the results look horrible and whatever we are doing is not working. \n",
    "We should now try with some transfer learning and see if previous learning helps with the results.\n",
    "\n",
    "- We will be using MobileNet architecture with some added modifications.\n",
    "- Image augmentation can also be useful for the model, especially one with 73 classes."
   ]
  },
  {
   "cell_type": "code",
   "execution_count": 11,
   "id": "41a909c7",
   "metadata": {
    "execution": {
     "iopub.execute_input": "2021-08-19T16:47:45.161201Z",
     "iopub.status.busy": "2021-08-19T16:47:45.160221Z",
     "iopub.status.idle": "2021-08-19T16:47:45.162881Z",
     "shell.execute_reply": "2021-08-19T16:47:45.162477Z",
     "shell.execute_reply.started": "2021-08-19T14:04:35.362071Z"
    },
    "papermill": {
     "duration": 4.515425,
     "end_time": "2021-08-19T16:47:45.163014",
     "exception": false,
     "start_time": "2021-08-19T16:47:40.647589",
     "status": "completed"
    },
    "tags": []
   },
   "outputs": [],
   "source": [
    "from tensorflow.keras.applications import MobileNetV2\n",
    "from tensorflow.keras.applications.mobilenet_v2 import preprocess_input"
   ]
  },
  {
   "cell_type": "code",
   "execution_count": 12,
   "id": "e998e48e",
   "metadata": {
    "cell_id": "00003-d90efe96-9fbf-476d-982d-dc6e583d4425",
    "deepnote_cell_type": "code",
    "deepnote_to_be_reexecuted": false,
    "execution": {
     "iopub.execute_input": "2021-08-19T16:47:53.850425Z",
     "iopub.status.busy": "2021-08-19T16:47:53.849850Z",
     "iopub.status.idle": "2021-08-19T16:47:54.741572Z",
     "shell.execute_reply": "2021-08-19T16:47:54.741960Z",
     "shell.execute_reply.started": "2021-08-19T14:04:50.352719Z"
    },
    "execution_millis": 724,
    "execution_start": 1628773494462,
    "papermill": {
     "duration": 5.337661,
     "end_time": "2021-08-19T16:47:54.742109",
     "exception": false,
     "start_time": "2021-08-19T16:47:49.404448",
     "status": "completed"
    },
    "source_hash": "60f37a28",
    "tags": []
   },
   "outputs": [
    {
     "name": "stdout",
     "output_type": "stream",
     "text": [
      "Found 10416 images belonging to 73 classes.\n",
      "Found 365 images belonging to 73 classes.\n",
      "Found 365 images belonging to 73 classes.\n"
     ]
    }
   ],
   "source": [
    "train_data_generator = image.ImageDataGenerator(\n",
    "                                            rotation_range=30,\n",
    "                                            zoom_range=0.15,\n",
    "                                            width_shift_range=0.2,\n",
    "                                            height_shift_range=0.2,\n",
    "                                            shear_range=0.15,\n",
    "                                            horizontal_flip=True,\n",
    "                                            fill_mode=\"nearest\",\n",
    "                                            preprocessing_function=preprocess_input\n",
    "                                            )\n",
    "\n",
    "test_data_generator = image.ImageDataGenerator(\n",
    "                                            preprocessing_function=preprocess_input\n",
    "                                            )\n",
    "\n",
    "train_generator = train_data_generator.flow_from_directory(directory= TRAIN_PATH,\n",
    "                                                    target_size=IMAGE_SIZE,\n",
    "                                                    color_mode= 'rgb',\n",
    "                                                    class_mode= 'categorical',\n",
    "                                                    batch_size= BATCH_SIZE)\n",
    "val_generator = train_data_generator.flow_from_directory(directory= VAL_PATH,\n",
    "                                                    target_size=IMAGE_SIZE,\n",
    "                                                    color_mode= 'rgb',\n",
    "                                                    class_mode= 'categorical',\n",
    "                                                    batch_size= BATCH_SIZE)\n",
    "test_generator = test_data_generator.flow_from_directory(directory= TEST_PATH,\n",
    "                                                    target_size=IMAGE_SIZE,\n",
    "                                                    color_mode= 'rgb',\n",
    "                                                    class_mode= 'categorical',\n",
    "                                                    batch_size= BATCH_SIZE)"
   ]
  },
  {
   "cell_type": "markdown",
   "id": "853e2ce8",
   "metadata": {
    "papermill": {
     "duration": 4.48239,
     "end_time": "2021-08-19T16:48:03.432234",
     "exception": false,
     "start_time": "2021-08-19T16:47:58.949844",
     "status": "completed"
    },
    "tags": []
   },
   "source": [
    "Let's just add two Dense layers to the architecture."
   ]
  },
  {
   "cell_type": "code",
   "execution_count": 13,
   "id": "1a9a98dc",
   "metadata": {
    "execution": {
     "iopub.execute_input": "2021-08-19T16:48:12.276635Z",
     "iopub.status.busy": "2021-08-19T16:48:12.275023Z",
     "iopub.status.idle": "2021-08-19T16:48:12.277283Z",
     "shell.execute_reply": "2021-08-19T16:48:12.277708Z",
     "shell.execute_reply.started": "2021-08-19T14:05:40.414284Z"
    },
    "papermill": {
     "duration": 4.236538,
     "end_time": "2021-08-19T16:48:12.277847",
     "exception": false,
     "start_time": "2021-08-19T16:48:08.041309",
     "status": "completed"
    },
    "tags": []
   },
   "outputs": [],
   "source": [
    "class ModifiedMobileNet():\n",
    "    '''\n",
    "    This class creates the mobilenet model.\n",
    "    '''\n",
    "    def __init__(self, input_shape, nb_classes):\n",
    "        self.input_shape = input_shape\n",
    "        self.nb_classes = nb_classes\n",
    "        \n",
    "    def get_model(self, unfreeze_layers = None, lr_rate = 0.001):\n",
    "        # load base model\n",
    "        base_model = MobileNetV2(weights='imagenet', include_top=False, input_shape=self.input_shape)\n",
    "        \n",
    "        # freezing the layers\n",
    "        for layer in (base_model.layers) if not unfreeze_layers else (base_model.layers[:-int(unfreeze_layers)]):\n",
    "            layer.trainable = False\n",
    "            \n",
    "        inputs = Input(shape=self.input_shape)\n",
    "        x = base_model(inputs, training=False)\n",
    "        x = layers.GlobalAveragePooling2D()(x)\n",
    "        x = layers.Dense(128, activation='relu')(x)\n",
    "        x = layers.Dropout(0.1)(x)\n",
    "        x = layers.Dense(128, activation='relu')(x)\n",
    "        x = layers.Dropout(0.1)(x)\n",
    "        outputs = layers.Dense(self.nb_classes, activation='softmax')(x)\n",
    "        model = Model(inputs, outputs)\n",
    "        \n",
    "        # model compilation\n",
    "        optimizer = optimizers.Adam(learning_rate=lr_rate)\n",
    "        model.compile(loss='categorical_crossentropy', optimizer= optimizer, metrics=['accuracy'])\n",
    "        return model"
   ]
  },
  {
   "cell_type": "markdown",
   "id": "355dbc3b",
   "metadata": {
    "papermill": {
     "duration": 4.20071,
     "end_time": "2021-08-19T16:48:20.918605",
     "exception": false,
     "start_time": "2021-08-19T16:48:16.717895",
     "status": "completed"
    },
    "tags": []
   },
   "source": [
    " We'll keep the base MobileNet frozen completely and only the added layers will learn from our dataset."
   ]
  },
  {
   "cell_type": "code",
   "execution_count": 14,
   "id": "a494f2fd",
   "metadata": {
    "cell_id": "00006-6ba8ec9d-7329-4c91-a897-b3564a56d4e7",
    "deepnote_cell_type": "code",
    "deepnote_to_be_reexecuted": false,
    "execution": {
     "iopub.execute_input": "2021-08-19T16:48:29.595691Z",
     "iopub.status.busy": "2021-08-19T16:48:29.594808Z",
     "iopub.status.idle": "2021-08-19T16:48:31.145935Z",
     "shell.execute_reply": "2021-08-19T16:48:31.145479Z",
     "shell.execute_reply.started": "2021-08-19T14:05:53.199113Z"
    },
    "execution_millis": 393,
    "execution_start": 1628773495709,
    "papermill": {
     "duration": 5.765354,
     "end_time": "2021-08-19T16:48:31.146061",
     "exception": false,
     "start_time": "2021-08-19T16:48:25.380707",
     "status": "completed"
    },
    "source_hash": "40f0abf1",
    "tags": []
   },
   "outputs": [
    {
     "name": "stdout",
     "output_type": "stream",
     "text": [
      "Downloading data from https://storage.googleapis.com/tensorflow/keras-applications/mobilenet_v2/mobilenet_v2_weights_tf_dim_ordering_tf_kernels_1.0_224_no_top.h5\n",
      "9412608/9406464 [==============================] - 0s 0us/step\n"
     ]
    }
   ],
   "source": [
    "mobilenet = ModifiedMobileNet(input_shape= IMAGE_SHAPE, nb_classes= NUM_CLASSES)\n",
    "model = mobilenet.get_model(unfreeze_layers=0, lr_rate= LEARNING_RATE)"
   ]
  },
  {
   "cell_type": "code",
   "execution_count": 15,
   "id": "d1fb14e5",
   "metadata": {
    "cell_id": "00007-397ced64-b727-4583-9f6a-9ffa12e0d157",
    "deepnote_cell_type": "code",
    "deepnote_to_be_reexecuted": false,
    "execution": {
     "iopub.execute_input": "2021-08-19T16:48:40.267810Z",
     "iopub.status.busy": "2021-08-19T16:48:40.266931Z",
     "iopub.status.idle": "2021-08-19T16:48:40.272355Z",
     "shell.execute_reply": "2021-08-19T16:48:40.272790Z",
     "shell.execute_reply.started": "2021-08-19T14:05:56.952207Z"
    },
    "execution_millis": 3,
    "execution_start": 1628773568082,
    "papermill": {
     "duration": 4.957669,
     "end_time": "2021-08-19T16:48:40.272930",
     "exception": false,
     "start_time": "2021-08-19T16:48:35.315261",
     "status": "completed"
    },
    "source_hash": "f5ec5b98",
    "tags": []
   },
   "outputs": [],
   "source": [
    "model.compile(optimizer = optimizers.Adam(LEARNING_RATE), \n",
    "                loss = losses.categorical_crossentropy, \n",
    "                metrics = ['accuracy'])"
   ]
  },
  {
   "cell_type": "code",
   "execution_count": 16,
   "id": "5f4dd521",
   "metadata": {
    "cell_id": "00008-055e4044-67a1-4d79-b7d9-eb1d9dc11c47",
    "deepnote_cell_type": "code",
    "deepnote_to_be_reexecuted": false,
    "execution": {
     "iopub.execute_input": "2021-08-19T16:48:48.968273Z",
     "iopub.status.busy": "2021-08-19T16:48:48.966776Z",
     "iopub.status.idle": "2021-08-19T18:43:35.780449Z",
     "shell.execute_reply": "2021-08-19T18:43:35.781075Z",
     "shell.execute_reply.started": "2021-08-19T14:05:58.537122Z"
    },
    "execution_start": 1628773630078,
    "papermill": {
     "duration": 6891.285126,
     "end_time": "2021-08-19T18:43:35.781295",
     "exception": false,
     "start_time": "2021-08-19T16:48:44.496169",
     "status": "completed"
    },
    "source_hash": "dc155949",
    "tags": []
   },
   "outputs": [
    {
     "name": "stdout",
     "output_type": "stream",
     "text": [
      "Epoch 1/50\n",
      "326/326 [==============================] - 137s 412ms/step - loss: 3.2087 - accuracy: 0.2342 - val_loss: 1.0190 - val_accuracy: 0.7068\n",
      "Epoch 2/50\n",
      "326/326 [==============================] - 136s 416ms/step - loss: 1.2554 - accuracy: 0.6339 - val_loss: 0.7368 - val_accuracy: 0.7945\n",
      "Epoch 3/50\n",
      "326/326 [==============================] - 136s 418ms/step - loss: 0.9643 - accuracy: 0.7080 - val_loss: 0.5848 - val_accuracy: 0.8329\n",
      "Epoch 4/50\n",
      "326/326 [==============================] - 134s 412ms/step - loss: 0.8392 - accuracy: 0.7495 - val_loss: 0.6358 - val_accuracy: 0.7918\n",
      "Epoch 5/50\n",
      "326/326 [==============================] - 138s 422ms/step - loss: 0.7764 - accuracy: 0.7648 - val_loss: 0.5529 - val_accuracy: 0.8247\n",
      "Epoch 6/50\n",
      "326/326 [==============================] - 138s 424ms/step - loss: 0.7050 - accuracy: 0.7840 - val_loss: 0.4721 - val_accuracy: 0.8603\n",
      "Epoch 7/50\n",
      "326/326 [==============================] - 137s 421ms/step - loss: 0.6415 - accuracy: 0.8000 - val_loss: 0.4825 - val_accuracy: 0.8329\n",
      "Epoch 8/50\n",
      "326/326 [==============================] - 137s 419ms/step - loss: 0.6196 - accuracy: 0.8132 - val_loss: 0.4506 - val_accuracy: 0.8630\n",
      "Epoch 9/50\n",
      "326/326 [==============================] - 137s 422ms/step - loss: 0.6033 - accuracy: 0.8107 - val_loss: 0.4870 - val_accuracy: 0.8411\n",
      "Epoch 10/50\n",
      "326/326 [==============================] - 137s 420ms/step - loss: 0.5738 - accuracy: 0.8225 - val_loss: 0.3837 - val_accuracy: 0.8712\n",
      "Epoch 11/50\n",
      "326/326 [==============================] - 138s 422ms/step - loss: 0.5279 - accuracy: 0.8339 - val_loss: 0.4642 - val_accuracy: 0.8740\n",
      "Epoch 12/50\n",
      "326/326 [==============================] - 137s 419ms/step - loss: 0.4936 - accuracy: 0.8495 - val_loss: 0.5083 - val_accuracy: 0.8329\n",
      "Epoch 13/50\n",
      "326/326 [==============================] - 139s 427ms/step - loss: 0.5086 - accuracy: 0.8387 - val_loss: 0.4857 - val_accuracy: 0.8438\n",
      "Epoch 14/50\n",
      "326/326 [==============================] - 138s 422ms/step - loss: 0.5152 - accuracy: 0.8360 - val_loss: 0.4530 - val_accuracy: 0.8740\n",
      "Epoch 15/50\n",
      "326/326 [==============================] - 132s 404ms/step - loss: 0.4977 - accuracy: 0.8471 - val_loss: 0.3943 - val_accuracy: 0.8658\n",
      "Epoch 16/50\n",
      "326/326 [==============================] - 139s 424ms/step - loss: 0.4527 - accuracy: 0.8565 - val_loss: 0.4746 - val_accuracy: 0.8575\n",
      "Epoch 17/50\n",
      "326/326 [==============================] - 149s 458ms/step - loss: 0.4623 - accuracy: 0.8558 - val_loss: 0.3969 - val_accuracy: 0.8822\n",
      "Epoch 18/50\n",
      "326/326 [==============================] - 140s 429ms/step - loss: 0.4169 - accuracy: 0.8643 - val_loss: 0.4239 - val_accuracy: 0.8548\n",
      "Epoch 19/50\n",
      "326/326 [==============================] - 133s 406ms/step - loss: 0.4431 - accuracy: 0.8595 - val_loss: 0.4717 - val_accuracy: 0.8521\n",
      "Epoch 20/50\n",
      "326/326 [==============================] - 136s 415ms/step - loss: 0.4405 - accuracy: 0.8607 - val_loss: 0.4633 - val_accuracy: 0.8740\n",
      "Epoch 21/50\n",
      "326/326 [==============================] - 136s 418ms/step - loss: 0.4326 - accuracy: 0.8618 - val_loss: 0.4353 - val_accuracy: 0.8712\n",
      "Epoch 22/50\n",
      "326/326 [==============================] - 136s 419ms/step - loss: 0.4099 - accuracy: 0.8692 - val_loss: 0.3971 - val_accuracy: 0.8712\n",
      "Epoch 23/50\n",
      "326/326 [==============================] - 137s 420ms/step - loss: 0.4209 - accuracy: 0.8680 - val_loss: 0.3476 - val_accuracy: 0.9151\n",
      "Epoch 24/50\n",
      "326/326 [==============================] - 137s 420ms/step - loss: 0.4212 - accuracy: 0.8672 - val_loss: 0.5321 - val_accuracy: 0.8630\n",
      "Epoch 25/50\n",
      "326/326 [==============================] - 138s 423ms/step - loss: 0.3764 - accuracy: 0.8813 - val_loss: 0.4081 - val_accuracy: 0.8685\n",
      "Epoch 26/50\n",
      "326/326 [==============================] - 137s 419ms/step - loss: 0.3905 - accuracy: 0.8778 - val_loss: 0.3663 - val_accuracy: 0.8849\n",
      "Epoch 27/50\n",
      "326/326 [==============================] - 137s 419ms/step - loss: 0.3971 - accuracy: 0.8729 - val_loss: 0.4055 - val_accuracy: 0.8767\n",
      "Epoch 28/50\n",
      "326/326 [==============================] - 136s 418ms/step - loss: 0.4030 - accuracy: 0.8755 - val_loss: 0.4329 - val_accuracy: 0.8658\n",
      "Epoch 29/50\n",
      "326/326 [==============================] - 137s 421ms/step - loss: 0.3726 - accuracy: 0.8836 - val_loss: 0.4604 - val_accuracy: 0.8795\n",
      "Epoch 30/50\n",
      "326/326 [==============================] - 138s 422ms/step - loss: 0.3940 - accuracy: 0.8770 - val_loss: 0.4759 - val_accuracy: 0.8521\n",
      "Epoch 31/50\n",
      "326/326 [==============================] - 135s 416ms/step - loss: 0.3755 - accuracy: 0.8766 - val_loss: 0.4940 - val_accuracy: 0.8521\n",
      "Epoch 32/50\n",
      "326/326 [==============================] - 134s 410ms/step - loss: 0.3489 - accuracy: 0.8884 - val_loss: 0.3767 - val_accuracy: 0.8740\n",
      "Epoch 33/50\n",
      "326/326 [==============================] - 139s 425ms/step - loss: 0.3626 - accuracy: 0.8868 - val_loss: 0.4568 - val_accuracy: 0.8658\n",
      "Epoch 34/50\n",
      "326/326 [==============================] - 140s 429ms/step - loss: 0.3666 - accuracy: 0.8883 - val_loss: 0.4514 - val_accuracy: 0.8849\n",
      "Epoch 35/50\n",
      "326/326 [==============================] - 142s 437ms/step - loss: 0.3514 - accuracy: 0.8925 - val_loss: 0.3915 - val_accuracy: 0.8904\n",
      "Epoch 36/50\n",
      "326/326 [==============================] - 140s 430ms/step - loss: 0.3568 - accuracy: 0.8870 - val_loss: 0.4410 - val_accuracy: 0.8849\n",
      "Epoch 37/50\n",
      "326/326 [==============================] - 139s 426ms/step - loss: 0.3293 - accuracy: 0.8965 - val_loss: 0.6016 - val_accuracy: 0.8521\n",
      "Epoch 38/50\n",
      "326/326 [==============================] - 142s 435ms/step - loss: 0.3281 - accuracy: 0.8946 - val_loss: 0.4344 - val_accuracy: 0.8712\n",
      "Epoch 39/50\n",
      "326/326 [==============================] - 141s 434ms/step - loss: 0.3514 - accuracy: 0.8869 - val_loss: 0.4177 - val_accuracy: 0.8904\n",
      "Epoch 40/50\n",
      "326/326 [==============================] - 139s 428ms/step - loss: 0.3393 - accuracy: 0.8926 - val_loss: 0.4007 - val_accuracy: 0.8877\n",
      "Epoch 41/50\n",
      "326/326 [==============================] - 141s 432ms/step - loss: 0.3249 - accuracy: 0.9005 - val_loss: 0.4364 - val_accuracy: 0.8575\n",
      "Epoch 42/50\n",
      "326/326 [==============================] - 141s 432ms/step - loss: 0.3387 - accuracy: 0.8968 - val_loss: 0.4205 - val_accuracy: 0.8712\n",
      "Epoch 43/50\n",
      "326/326 [==============================] - 133s 408ms/step - loss: 0.3149 - accuracy: 0.9019 - val_loss: 0.4634 - val_accuracy: 0.8822\n",
      "Epoch 44/50\n",
      "326/326 [==============================] - 139s 426ms/step - loss: 0.3358 - accuracy: 0.8915 - val_loss: 0.5199 - val_accuracy: 0.8658\n",
      "Epoch 45/50\n",
      "326/326 [==============================] - 136s 418ms/step - loss: 0.3272 - accuracy: 0.8996 - val_loss: 0.5398 - val_accuracy: 0.8712\n",
      "Epoch 46/50\n",
      "326/326 [==============================] - 133s 409ms/step - loss: 0.3307 - accuracy: 0.8950 - val_loss: 0.5240 - val_accuracy: 0.8548\n",
      "Epoch 47/50\n",
      "326/326 [==============================] - 142s 434ms/step - loss: 0.3246 - accuracy: 0.8985 - val_loss: 0.4615 - val_accuracy: 0.8685\n",
      "Epoch 48/50\n",
      "326/326 [==============================] - 134s 411ms/step - loss: 0.3033 - accuracy: 0.9043 - val_loss: 0.5473 - val_accuracy: 0.8521\n",
      "Epoch 49/50\n",
      "326/326 [==============================] - 136s 417ms/step - loss: 0.3212 - accuracy: 0.8970 - val_loss: 0.4259 - val_accuracy: 0.8767\n",
      "Epoch 50/50\n",
      "326/326 [==============================] - 134s 411ms/step - loss: 0.3151 - accuracy: 0.8980 - val_loss: 0.5254 - val_accuracy: 0.8466\n"
     ]
    }
   ],
   "source": [
    "history = model.fit(train_generator, validation_data= val_generator, epochs = EPOCHS)"
   ]
  },
  {
   "cell_type": "code",
   "execution_count": 17,
   "id": "942add60",
   "metadata": {
    "execution": {
     "iopub.execute_input": "2021-08-19T18:43:53.028565Z",
     "iopub.status.busy": "2021-08-19T18:43:53.027746Z",
     "iopub.status.idle": "2021-08-19T18:44:16.523151Z",
     "shell.execute_reply": "2021-08-19T18:44:16.522635Z",
     "shell.execute_reply.started": "2021-08-19T15:58:25.541181Z"
    },
    "papermill": {
     "duration": 32.016733,
     "end_time": "2021-08-19T18:44:16.523279",
     "exception": false,
     "start_time": "2021-08-19T18:43:44.506546",
     "status": "completed"
    },
    "tags": []
   },
   "outputs": [],
   "source": [
    "model.save('model2')"
   ]
  },
  {
   "cell_type": "code",
   "execution_count": 18,
   "id": "ac578b8b",
   "metadata": {
    "execution": {
     "iopub.execute_input": "2021-08-19T18:44:34.510880Z",
     "iopub.status.busy": "2021-08-19T18:44:34.509657Z",
     "iopub.status.idle": "2021-08-19T18:44:36.510336Z",
     "shell.execute_reply": "2021-08-19T18:44:36.509873Z",
     "shell.execute_reply.started": "2021-08-19T15:58:49.873343Z"
    },
    "papermill": {
     "duration": 11.299786,
     "end_time": "2021-08-19T18:44:36.510499",
     "exception": false,
     "start_time": "2021-08-19T18:44:25.210713",
     "status": "completed"
    },
    "tags": []
   },
   "outputs": [
    {
     "name": "stdout",
     "output_type": "stream",
     "text": [
      "12/12 [==============================] - 2s 149ms/step - loss: 0.2141 - accuracy: 0.9178\n"
     ]
    },
    {
     "data": {
      "text/plain": [
       "[0.21407487988471985, 0.9178082346916199]"
      ]
     },
     "execution_count": 18,
     "metadata": {},
     "output_type": "execute_result"
    }
   ],
   "source": [
    "model.evaluate(test_generator)"
   ]
  },
  {
   "cell_type": "markdown",
   "id": "5e6efb8b",
   "metadata": {
    "papermill": {
     "duration": 8.800147,
     "end_time": "2021-08-19T18:44:53.965475",
     "exception": false,
     "start_time": "2021-08-19T18:44:45.165328",
     "status": "completed"
    },
    "tags": []
   },
   "source": [
    "We can observe from the above plots how much we have improved by using the knowledge that MobileNet already has with some new learning from the added dense layers."
   ]
  },
  {
   "cell_type": "markdown",
   "id": "c9440c51",
   "metadata": {
    "papermill": {
     "duration": 8.573973,
     "end_time": "2021-08-19T18:45:11.699615",
     "exception": false,
     "start_time": "2021-08-19T18:45:03.125642",
     "status": "completed"
    },
    "tags": []
   },
   "source": [
    "Let's check the Precision and Recall of Both architectures.  \n",
    "Since there are 73 classes, we will calculated weighted Precision and Recall for ease of understanding."
   ]
  },
  {
   "cell_type": "code",
   "execution_count": 19,
   "id": "31a83c39",
   "metadata": {
    "execution": {
     "iopub.execute_input": "2021-08-19T18:45:29.268027Z",
     "iopub.status.busy": "2021-08-19T18:45:29.267494Z",
     "iopub.status.idle": "2021-08-19T18:45:29.377563Z",
     "shell.execute_reply": "2021-08-19T18:45:29.377121Z",
     "shell.execute_reply.started": "2021-08-19T15:59:03.054569Z"
    },
    "papermill": {
     "duration": 8.910272,
     "end_time": "2021-08-19T18:45:29.377686",
     "exception": false,
     "start_time": "2021-08-19T18:45:20.467414",
     "status": "completed"
    },
    "tags": []
   },
   "outputs": [
    {
     "name": "stdout",
     "output_type": "stream",
     "text": [
      "Found 365 images belonging to 73 classes.\n"
     ]
    }
   ],
   "source": [
    "test_generator = data_generator.flow_from_directory(directory= TEST_PATH,\n",
    "                                                    target_size=IMAGE_SIZE,\n",
    "                                                    color_mode= 'rgb',\n",
    "                                                    class_mode= 'sparse',\n",
    "                                                    batch_size= 365,\n",
    "                                                    shuffle= False)"
   ]
  },
  {
   "cell_type": "code",
   "execution_count": 20,
   "id": "44bb3197",
   "metadata": {
    "execution": {
     "iopub.execute_input": "2021-08-19T18:45:47.528553Z",
     "iopub.status.busy": "2021-08-19T18:45:47.527735Z",
     "iopub.status.idle": "2021-08-19T18:45:48.336987Z",
     "shell.execute_reply": "2021-08-19T18:45:48.336230Z",
     "shell.execute_reply.started": "2021-08-19T15:58:51.197246Z"
    },
    "papermill": {
     "duration": 9.652873,
     "end_time": "2021-08-19T18:45:48.337114",
     "exception": false,
     "start_time": "2021-08-19T18:45:38.684241",
     "status": "completed"
    },
    "tags": []
   },
   "outputs": [],
   "source": [
    "test_images, test_labels = test_generator.next()"
   ]
  },
  {
   "cell_type": "code",
   "execution_count": 21,
   "id": "5c082e68",
   "metadata": {
    "execution": {
     "iopub.execute_input": "2021-08-19T18:46:05.721539Z",
     "iopub.status.busy": "2021-08-19T18:46:05.720754Z",
     "iopub.status.idle": "2021-08-19T18:46:15.275252Z",
     "shell.execute_reply": "2021-08-19T18:46:15.274806Z",
     "shell.execute_reply.started": "2021-08-19T15:58:52.021116Z"
    },
    "papermill": {
     "duration": 18.288414,
     "end_time": "2021-08-19T18:46:15.275395",
     "exception": false,
     "start_time": "2021-08-19T18:45:56.986981",
     "status": "completed"
    },
    "tags": []
   },
   "outputs": [],
   "source": [
    "default_model = models.load_model('model1/')\n",
    "improved_model = models.load_model('model2/')"
   ]
  },
  {
   "cell_type": "code",
   "execution_count": 22,
   "id": "69eb7ac2",
   "metadata": {
    "execution": {
     "iopub.execute_input": "2021-08-19T18:46:32.836949Z",
     "iopub.status.busy": "2021-08-19T18:46:32.836168Z",
     "iopub.status.idle": "2021-08-19T18:46:34.593411Z",
     "shell.execute_reply": "2021-08-19T18:46:34.592880Z",
     "shell.execute_reply.started": "2021-08-19T15:59:00.961442Z"
    },
    "papermill": {
     "duration": 10.573425,
     "end_time": "2021-08-19T18:46:34.593605",
     "exception": false,
     "start_time": "2021-08-19T18:46:24.020180",
     "status": "completed"
    },
    "tags": []
   },
   "outputs": [],
   "source": [
    "default_predictions= default_model.predict(test_images).argmax(axis = 1)\n",
    "improved_predictions= improved_model.predict(test_images).argmax(axis = 1)"
   ]
  },
  {
   "cell_type": "code",
   "execution_count": 23,
   "id": "89103e60",
   "metadata": {
    "execution": {
     "iopub.execute_input": "2021-08-19T18:46:52.576495Z",
     "iopub.status.busy": "2021-08-19T18:46:52.575777Z",
     "iopub.status.idle": "2021-08-19T18:46:52.681812Z",
     "shell.execute_reply": "2021-08-19T18:46:52.681307Z",
     "shell.execute_reply.started": "2021-08-19T15:59:02.720508Z"
    },
    "papermill": {
     "duration": 8.752469,
     "end_time": "2021-08-19T18:46:52.681931",
     "exception": false,
     "start_time": "2021-08-19T18:46:43.929462",
     "status": "completed"
    },
    "tags": []
   },
   "outputs": [],
   "source": [
    "from sklearn.metrics import precision_score, recall_score"
   ]
  },
  {
   "cell_type": "code",
   "execution_count": 24,
   "id": "73bf37c6",
   "metadata": {
    "execution": {
     "iopub.execute_input": "2021-08-19T18:47:09.827456Z",
     "iopub.status.busy": "2021-08-19T18:47:09.826636Z",
     "iopub.status.idle": "2021-08-19T18:47:09.835884Z",
     "shell.execute_reply": "2021-08-19T18:47:09.835401Z",
     "shell.execute_reply.started": "2021-08-19T15:59:02.861787Z"
    },
    "papermill": {
     "duration": 8.622038,
     "end_time": "2021-08-19T18:47:09.836010",
     "exception": false,
     "start_time": "2021-08-19T18:47:01.213972",
     "status": "completed"
    },
    "tags": []
   },
   "outputs": [],
   "source": [
    "def_precision, def_recall = (precision_score(test_labels, default_predictions, average= 'weighted'),\n",
    "                            recall_score(test_labels, default_predictions, average= 'weighted'))\n",
    "imp_precision, imp_recall = (precision_score(test_labels, improved_predictions, average= 'weighted'),\n",
    "                            recall_score(test_labels, improved_predictions, average= 'weighted'))"
   ]
  },
  {
   "cell_type": "code",
   "execution_count": 25,
   "id": "62723a80",
   "metadata": {
    "execution": {
     "iopub.execute_input": "2021-08-19T18:47:27.790288Z",
     "iopub.status.busy": "2021-08-19T18:47:27.789374Z",
     "iopub.status.idle": "2021-08-19T18:47:27.945739Z",
     "shell.execute_reply": "2021-08-19T18:47:27.946143Z",
     "shell.execute_reply.started": "2021-08-19T15:59:02.879226Z"
    },
    "papermill": {
     "duration": 9.283743,
     "end_time": "2021-08-19T18:47:27.946287",
     "exception": false,
     "start_time": "2021-08-19T18:47:18.662544",
     "status": "completed"
    },
    "tags": []
   },
   "outputs": [
    {
     "data": {
      "image/png": "[encoded data removed]",
      "text/plain": [
       "<Figure size 864x432 with 1 Axes>"
      ]
     },
     "metadata": {},
     "output_type": "display_data"
    }
   ],
   "source": [
    "colors = ['tab:blue', 'tab:orange', 'tab:blue', 'tab:orange']\n",
    "customPalette = sns.set_palette(sns.color_palette(colors))\n",
    "plt.figure(figsize = (12,6))\n",
    "plt.title('Precision & Recall Comparision\\nDefault and Improved Model')\n",
    "f = sns.barplot(x = list(range(4)), y = [def_precision, imp_precision, def_recall, imp_recall], palette=customPalette)\n",
    "plt.xticks(f.get_xticks(), labels = ['default precision', 'improved precision', 'default recall', 'improved recall']);"
   ]
  },
  {
   "cell_type": "markdown",
   "id": "403d9e58",
   "metadata": {
    "papermill": {
     "duration": 8.4775,
     "end_time": "2021-08-19T18:47:45.191590",
     "exception": false,
     "start_time": "2021-08-19T18:47:36.714090",
     "status": "completed"
    },
    "tags": []
   },
   "source": [
    "That's it for this one. Thanks!\n",
    "Any comments, suggestions or corrections are welcome.\n",
    "\n",
    "Follow me on Twitter [@capeandcode](https://www.twitter.com/capeandcode).      \n",
    "\n",
    "Connect with me [here](https://prashantbrahmbhatt.bio.link/)."
   ]
  }
 ],
 "metadata": {
  "kernelspec": {
   "display_name": "Python 3",
   "language": "python",
   "name": "python3"
  },
  "language_info": {
   "codemirror_mode": {
    "name": "ipython",
    "version": 3
   },
   "file_extension": ".py",
   "mimetype": "text/x-python",
   "name": "python",
   "nbconvert_exporter": "python",
   "pygments_lexer": "ipython3",
   "version": "3.7.10"
  },
  "papermill": {
   "default_parameters": {},
   "duration": 8953.931562,
   "end_time": "2021-08-19T18:47:56.955481",
   "environment_variables": {},
   "exception": null,
   "input_path": "__notebook__.ipynb",
   "output_path": "__notebook__.ipynb",
   "parameters": {},
   "start_time": "2021-08-19T16:18:43.023919",
   "version": "2.3.3"
  }
 },
 "nbformat": 4,
 "nbformat_minor": 5
}
